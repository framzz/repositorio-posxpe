{
  "nbformat": 4,
  "nbformat_minor": 0,
  "metadata": {
    "colab": {
      "provenance": [],
      "collapsed_sections": [
        "xH9geUaUoWpx"
      ]
    },
    "kernelspec": {
      "name": "python3",
      "display_name": "Python 3"
    },
    "language_info": {
      "name": "python"
    }
  },
  "cells": [
    {
      "cell_type": "markdown",
      "source": [
        "## Objetivos da aula\n",
        "- Extrair dados públicos de compras governamentais\n",
        "- Tratar os dados\n",
        "- Armazenar os dados em um arquivo"
      ],
      "metadata": {
        "id": "wc3LN6JQjADx"
      }
    },
    {
      "cell_type": "markdown",
      "source": [
        "## Extração"
      ],
      "metadata": {
        "id": "xH9geUaUoWpx"
      }
    },
    {
      "cell_type": "code",
      "source": [
        "! pip install pyspark"
      ],
      "metadata": {
        "colab": {
          "base_uri": "https://localhost:8080/"
        },
        "id": "VTGVeF0vl35x",
        "outputId": "87dd93bf-99d2-46e1-ffdd-553edb315569"
      },
      "execution_count": 30,
      "outputs": [
        {
          "output_type": "stream",
          "name": "stdout",
          "text": [
            "Requirement already satisfied: pyspark in /usr/local/lib/python3.10/dist-packages (3.5.0)\n",
            "Requirement already satisfied: py4j==0.10.9.7 in /usr/local/lib/python3.10/dist-packages (from pyspark) (0.10.9.7)\n"
          ]
        }
      ]
    },
    {
      "cell_type": "code",
      "source": [
        "import requests\n",
        "import io\n",
        "import pandas as pd\n",
        "from pyspark.sql import SparkSession"
      ],
      "metadata": {
        "id": "8rpmMq4_jlNJ"
      },
      "execution_count": 31,
      "outputs": []
    },
    {
      "cell_type": "code",
      "execution_count": 32,
      "metadata": {
        "colab": {
          "base_uri": "https://localhost:8080/"
        },
        "id": "KfLoGhZUidTk",
        "outputId": "bbcc674c-4ab7-4fb1-a750-40c40ae0763d"
      },
      "outputs": [
        {
          "output_type": "execute_result",
          "data": {
            "text/plain": [
              "b'C\\xc3\\xb3digo,Descri\\xc3\\xa7\\xc3\\xa3o,Unidade medida,CPC,Se\\xc3\\xa7\\xc3\\xa3o,Divis\\xc3\\xa3o,Grupo,Classe,Subclasse\\n14311,\"Orienta\\xc3\\xa7\\xc3\\xa3o / Educa\\xc3\\xa7\\xc3\\xa3o - Atividade F\\xc3\\xadsica                                                                                \",UNHOMEM/H M\\xc3\\x8aS,9659,\"9: SERVI\\xc3\\x87OS DA COMUNIDADE, PESSOAIS E SOCIAIS E OUTROS SERVI\\xc3\\x87OS                                                            \",\"96: SERVI\\xc3\\x87OS RECREACIONAIS, CULTURAIS E ESPORTIVOS                                                                          \",\"965: SERVI\\xc3\\x87OS RELACIONADOS COM ESPORTES E SERVI\\xc3\\x87OS RECREACIONAIS DO ESPORTE                                                  \",\"9659: OUTROS ESPORTES E SERVI\\xc3\\x87OS DE ESPORTES RECREATIVOS                                                                      \",\\n15946,\"Servi\\xc3\\xa7o Penitenci\\xc3\\xa1rio - Reeduca\\xc3\\xa7\\xc3\\xa3o e Reabilita\\xc3\\xa7\\xc3\\xa3o de Apenado                                                            \",UN,979,\"9: SERVI\\xc3\\x87OS DA COMUNIDADE, PESSOAIS E SOCIAIS E OUTROS SERVI\\xc3\\x87OS                                                            \",\"97: OUTROS SERVI\\xc3\\x87OS                                                                                                         \",\"979: OUTROS SERVI\\xc3\\x87OS DIVERSOS/MISCEL\\xc3\\x82NEA                                                                                     \",,\\n18481,\"Consultoria e Assessoria - Educa\\xc3\\xa7\\xc3\\xa3o                                                                                     \",UN,8319,\"8: SERVI\\xc3\\x87OS DE ARQUITETURA, DESENHOS T\\xc3\\x89CNICOS, PESQUISA E DESENVOLVIMENTO, NEG\\xc3\\x93CIO E PRODU\\xc3\\x87\\xc3\\x83O                              \",\"83: OUTROS SERVI\\xc3\\x87OS DE NEG\\xc3\\x93CIOS, T\\xc3\\x89CNICOS E PROFISSIONAIS                                                                   \",\"831: SERVI\\xc3\\x87OS DE CONSULTORIA E DE GER\\xc3\\x8aNCIA/GEST\\xc3\\x83O                                                                            \",\"8319: OUTROS SERVI\\xc3\\x87OS DE GER\\xc3\\x8aNCIA/GEST\\xc3\\x83O, EXCETO OS DE PROJETOS DECONSTRU\\xc3\\x87\\xc3\\x83O                                                  \",\\n19321,\"Curso / Treinamento Educa\\xc3\\xa7\\xc3\\xa3o - Dist\\xc3\\xa2ncia                                                                                \",UN,929,\"9: SERVI\\xc3\\x87OS DA COMUNIDADE, PESSOAIS E SOCIAIS E OUTROS SERVI\\xc3\\x87OS                                                            \",\"92: SERVI\\xc3\\x87OS DA INSTRU\\xc3\\x87\\xc3\\x83O/ EDUCA\\xc3\\x87\\xc3\\x83O/ ENSINO                                                                                 \",\"929: OUTROS SERVI\\xc3\\x87OS DE EDUCA\\xc3\\x87\\xc3\\x83O E TREINAMENTO                                                                               \",,\\n'"
            ]
          },
          "metadata": {},
          "execution_count": 32
        }
      ],
      "source": [
        "# puxando dados da api do governo\n",
        "url = 'http://compras.dados.gov.br/servicos/v1/servicos.csv?descricao=educação'\n",
        "data = requests.get(url).content\n",
        "# por default ele precisa retornar status code 200 para dar certo\n",
        "data"
      ]
    },
    {
      "cell_type": "code",
      "source": [
        "# converter os dados de bytes para objeto\n",
        "parse_Data = io.StringIO(data.decode(\"UTF-8\"))\n",
        "parse_Data"
      ],
      "metadata": {
        "colab": {
          "base_uri": "https://localhost:8080/"
        },
        "id": "lRYtrfPUjwup",
        "outputId": "05a37545-5812-43da-e443-5741854b584e"
      },
      "execution_count": 33,
      "outputs": [
        {
          "output_type": "execute_result",
          "data": {
            "text/plain": [
              "<_io.StringIO at 0x7a7049e4bf40>"
            ]
          },
          "metadata": {},
          "execution_count": 33
        }
      ]
    },
    {
      "cell_type": "code",
      "source": [
        "# criando dataframe\n",
        "df = pd.read_csv(parse_Data)\n",
        "df.head()"
      ],
      "metadata": {
        "colab": {
          "base_uri": "https://localhost:8080/",
          "height": 0
        },
        "id": "NzzuFK8VkUyZ",
        "outputId": "8f6466df-c21e-4696-dde7-a9a042b71b8e"
      },
      "execution_count": 34,
      "outputs": [
        {
          "output_type": "execute_result",
          "data": {
            "text/plain": [
              "   Código                                          Descrição Unidade medida  \\\n",
              "0   14311  Orientação / Educação - Atividade Física      ...  UNHOMEM/H MÊS   \n",
              "1   15946  Serviço Penitenciário - Reeducação e Reabilita...             UN   \n",
              "2   18481  Consultoria e Assessoria - Educação           ...             UN   \n",
              "3   19321  Curso / Treinamento Educação - Distância      ...             UN   \n",
              "\n",
              "    CPC                                              Seção  \\\n",
              "0  9659  9: SERVIÇOS DA COMUNIDADE, PESSOAIS E SOCIAIS ...   \n",
              "1   979  9: SERVIÇOS DA COMUNIDADE, PESSOAIS E SOCIAIS ...   \n",
              "2  8319  8: SERVIÇOS DE ARQUITETURA, DESENHOS TÉCNICOS,...   \n",
              "3   929  9: SERVIÇOS DA COMUNIDADE, PESSOAIS E SOCIAIS ...   \n",
              "\n",
              "                                             Divisão  \\\n",
              "0  96: SERVIÇOS RECREACIONAIS, CULTURAIS E ESPORT...   \n",
              "1  97: OUTROS SERVIÇOS                           ...   \n",
              "2  83: OUTROS SERVIÇOS DE NEGÓCIOS, TÉCNICOS E PR...   \n",
              "3  92: SERVIÇOS DA INSTRUÇÃO/ EDUCAÇÃO/ ENSINO   ...   \n",
              "\n",
              "                                               Grupo  \\\n",
              "0  965: SERVIÇOS RELACIONADOS COM ESPORTES E SERV...   \n",
              "1  979: OUTROS SERVIÇOS DIVERSOS/MISCELÂNEA      ...   \n",
              "2  831: SERVIÇOS DE CONSULTORIA E DE GERÊNCIA/GES...   \n",
              "3  929: OUTROS SERVIÇOS DE EDUCAÇÃO E TREINAMENTO...   \n",
              "\n",
              "                                              Classe  Subclasse  \n",
              "0  9659: OUTROS ESPORTES E SERVIÇOS DE ESPORTES R...        NaN  \n",
              "1                                                NaN        NaN  \n",
              "2  8319: OUTROS SERVIÇOS DE GERÊNCIA/GESTÃO, EXCE...        NaN  \n",
              "3                                                NaN        NaN  "
            ],
            "text/html": [
              "\n",
              "  <div id=\"df-a9a1b229-48fc-419a-ba67-9789ffe88e3e\" class=\"colab-df-container\">\n",
              "    <div>\n",
              "<style scoped>\n",
              "    .dataframe tbody tr th:only-of-type {\n",
              "        vertical-align: middle;\n",
              "    }\n",
              "\n",
              "    .dataframe tbody tr th {\n",
              "        vertical-align: top;\n",
              "    }\n",
              "\n",
              "    .dataframe thead th {\n",
              "        text-align: right;\n",
              "    }\n",
              "</style>\n",
              "<table border=\"1\" class=\"dataframe\">\n",
              "  <thead>\n",
              "    <tr style=\"text-align: right;\">\n",
              "      <th></th>\n",
              "      <th>Código</th>\n",
              "      <th>Descrição</th>\n",
              "      <th>Unidade medida</th>\n",
              "      <th>CPC</th>\n",
              "      <th>Seção</th>\n",
              "      <th>Divisão</th>\n",
              "      <th>Grupo</th>\n",
              "      <th>Classe</th>\n",
              "      <th>Subclasse</th>\n",
              "    </tr>\n",
              "  </thead>\n",
              "  <tbody>\n",
              "    <tr>\n",
              "      <th>0</th>\n",
              "      <td>14311</td>\n",
              "      <td>Orientação / Educação - Atividade Física      ...</td>\n",
              "      <td>UNHOMEM/H MÊS</td>\n",
              "      <td>9659</td>\n",
              "      <td>9: SERVIÇOS DA COMUNIDADE, PESSOAIS E SOCIAIS ...</td>\n",
              "      <td>96: SERVIÇOS RECREACIONAIS, CULTURAIS E ESPORT...</td>\n",
              "      <td>965: SERVIÇOS RELACIONADOS COM ESPORTES E SERV...</td>\n",
              "      <td>9659: OUTROS ESPORTES E SERVIÇOS DE ESPORTES R...</td>\n",
              "      <td>NaN</td>\n",
              "    </tr>\n",
              "    <tr>\n",
              "      <th>1</th>\n",
              "      <td>15946</td>\n",
              "      <td>Serviço Penitenciário - Reeducação e Reabilita...</td>\n",
              "      <td>UN</td>\n",
              "      <td>979</td>\n",
              "      <td>9: SERVIÇOS DA COMUNIDADE, PESSOAIS E SOCIAIS ...</td>\n",
              "      <td>97: OUTROS SERVIÇOS                           ...</td>\n",
              "      <td>979: OUTROS SERVIÇOS DIVERSOS/MISCELÂNEA      ...</td>\n",
              "      <td>NaN</td>\n",
              "      <td>NaN</td>\n",
              "    </tr>\n",
              "    <tr>\n",
              "      <th>2</th>\n",
              "      <td>18481</td>\n",
              "      <td>Consultoria e Assessoria - Educação           ...</td>\n",
              "      <td>UN</td>\n",
              "      <td>8319</td>\n",
              "      <td>8: SERVIÇOS DE ARQUITETURA, DESENHOS TÉCNICOS,...</td>\n",
              "      <td>83: OUTROS SERVIÇOS DE NEGÓCIOS, TÉCNICOS E PR...</td>\n",
              "      <td>831: SERVIÇOS DE CONSULTORIA E DE GERÊNCIA/GES...</td>\n",
              "      <td>8319: OUTROS SERVIÇOS DE GERÊNCIA/GESTÃO, EXCE...</td>\n",
              "      <td>NaN</td>\n",
              "    </tr>\n",
              "    <tr>\n",
              "      <th>3</th>\n",
              "      <td>19321</td>\n",
              "      <td>Curso / Treinamento Educação - Distância      ...</td>\n",
              "      <td>UN</td>\n",
              "      <td>929</td>\n",
              "      <td>9: SERVIÇOS DA COMUNIDADE, PESSOAIS E SOCIAIS ...</td>\n",
              "      <td>92: SERVIÇOS DA INSTRUÇÃO/ EDUCAÇÃO/ ENSINO   ...</td>\n",
              "      <td>929: OUTROS SERVIÇOS DE EDUCAÇÃO E TREINAMENTO...</td>\n",
              "      <td>NaN</td>\n",
              "      <td>NaN</td>\n",
              "    </tr>\n",
              "  </tbody>\n",
              "</table>\n",
              "</div>\n",
              "    <div class=\"colab-df-buttons\">\n",
              "\n",
              "  <div class=\"colab-df-container\">\n",
              "    <button class=\"colab-df-convert\" onclick=\"convertToInteractive('df-a9a1b229-48fc-419a-ba67-9789ffe88e3e')\"\n",
              "            title=\"Convert this dataframe to an interactive table.\"\n",
              "            style=\"display:none;\">\n",
              "\n",
              "  <svg xmlns=\"http://www.w3.org/2000/svg\" height=\"24px\" viewBox=\"0 -960 960 960\">\n",
              "    <path d=\"M120-120v-720h720v720H120Zm60-500h600v-160H180v160Zm220 220h160v-160H400v160Zm0 220h160v-160H400v160ZM180-400h160v-160H180v160Zm440 0h160v-160H620v160ZM180-180h160v-160H180v160Zm440 0h160v-160H620v160Z\"/>\n",
              "  </svg>\n",
              "    </button>\n",
              "\n",
              "  <style>\n",
              "    .colab-df-container {\n",
              "      display:flex;\n",
              "      gap: 12px;\n",
              "    }\n",
              "\n",
              "    .colab-df-convert {\n",
              "      background-color: #E8F0FE;\n",
              "      border: none;\n",
              "      border-radius: 50%;\n",
              "      cursor: pointer;\n",
              "      display: none;\n",
              "      fill: #1967D2;\n",
              "      height: 32px;\n",
              "      padding: 0 0 0 0;\n",
              "      width: 32px;\n",
              "    }\n",
              "\n",
              "    .colab-df-convert:hover {\n",
              "      background-color: #E2EBFA;\n",
              "      box-shadow: 0px 1px 2px rgba(60, 64, 67, 0.3), 0px 1px 3px 1px rgba(60, 64, 67, 0.15);\n",
              "      fill: #174EA6;\n",
              "    }\n",
              "\n",
              "    .colab-df-buttons div {\n",
              "      margin-bottom: 4px;\n",
              "    }\n",
              "\n",
              "    [theme=dark] .colab-df-convert {\n",
              "      background-color: #3B4455;\n",
              "      fill: #D2E3FC;\n",
              "    }\n",
              "\n",
              "    [theme=dark] .colab-df-convert:hover {\n",
              "      background-color: #434B5C;\n",
              "      box-shadow: 0px 1px 3px 1px rgba(0, 0, 0, 0.15);\n",
              "      filter: drop-shadow(0px 1px 2px rgba(0, 0, 0, 0.3));\n",
              "      fill: #FFFFFF;\n",
              "    }\n",
              "  </style>\n",
              "\n",
              "    <script>\n",
              "      const buttonEl =\n",
              "        document.querySelector('#df-a9a1b229-48fc-419a-ba67-9789ffe88e3e button.colab-df-convert');\n",
              "      buttonEl.style.display =\n",
              "        google.colab.kernel.accessAllowed ? 'block' : 'none';\n",
              "\n",
              "      async function convertToInteractive(key) {\n",
              "        const element = document.querySelector('#df-a9a1b229-48fc-419a-ba67-9789ffe88e3e');\n",
              "        const dataTable =\n",
              "          await google.colab.kernel.invokeFunction('convertToInteractive',\n",
              "                                                    [key], {});\n",
              "        if (!dataTable) return;\n",
              "\n",
              "        const docLinkHtml = 'Like what you see? Visit the ' +\n",
              "          '<a target=\"_blank\" href=https://colab.research.google.com/notebooks/data_table.ipynb>data table notebook</a>'\n",
              "          + ' to learn more about interactive tables.';\n",
              "        element.innerHTML = '';\n",
              "        dataTable['output_type'] = 'display_data';\n",
              "        await google.colab.output.renderOutput(dataTable, element);\n",
              "        const docLink = document.createElement('div');\n",
              "        docLink.innerHTML = docLinkHtml;\n",
              "        element.appendChild(docLink);\n",
              "      }\n",
              "    </script>\n",
              "  </div>\n",
              "\n",
              "\n",
              "<div id=\"df-c76ef599-63f5-45ee-9c3c-51736c4ea461\">\n",
              "  <button class=\"colab-df-quickchart\" onclick=\"quickchart('df-c76ef599-63f5-45ee-9c3c-51736c4ea461')\"\n",
              "            title=\"Suggest charts\"\n",
              "            style=\"display:none;\">\n",
              "\n",
              "<svg xmlns=\"http://www.w3.org/2000/svg\" height=\"24px\"viewBox=\"0 0 24 24\"\n",
              "     width=\"24px\">\n",
              "    <g>\n",
              "        <path d=\"M19 3H5c-1.1 0-2 .9-2 2v14c0 1.1.9 2 2 2h14c1.1 0 2-.9 2-2V5c0-1.1-.9-2-2-2zM9 17H7v-7h2v7zm4 0h-2V7h2v10zm4 0h-2v-4h2v4z\"/>\n",
              "    </g>\n",
              "</svg>\n",
              "  </button>\n",
              "\n",
              "<style>\n",
              "  .colab-df-quickchart {\n",
              "      --bg-color: #E8F0FE;\n",
              "      --fill-color: #1967D2;\n",
              "      --hover-bg-color: #E2EBFA;\n",
              "      --hover-fill-color: #174EA6;\n",
              "      --disabled-fill-color: #AAA;\n",
              "      --disabled-bg-color: #DDD;\n",
              "  }\n",
              "\n",
              "  [theme=dark] .colab-df-quickchart {\n",
              "      --bg-color: #3B4455;\n",
              "      --fill-color: #D2E3FC;\n",
              "      --hover-bg-color: #434B5C;\n",
              "      --hover-fill-color: #FFFFFF;\n",
              "      --disabled-bg-color: #3B4455;\n",
              "      --disabled-fill-color: #666;\n",
              "  }\n",
              "\n",
              "  .colab-df-quickchart {\n",
              "    background-color: var(--bg-color);\n",
              "    border: none;\n",
              "    border-radius: 50%;\n",
              "    cursor: pointer;\n",
              "    display: none;\n",
              "    fill: var(--fill-color);\n",
              "    height: 32px;\n",
              "    padding: 0;\n",
              "    width: 32px;\n",
              "  }\n",
              "\n",
              "  .colab-df-quickchart:hover {\n",
              "    background-color: var(--hover-bg-color);\n",
              "    box-shadow: 0 1px 2px rgba(60, 64, 67, 0.3), 0 1px 3px 1px rgba(60, 64, 67, 0.15);\n",
              "    fill: var(--button-hover-fill-color);\n",
              "  }\n",
              "\n",
              "  .colab-df-quickchart-complete:disabled,\n",
              "  .colab-df-quickchart-complete:disabled:hover {\n",
              "    background-color: var(--disabled-bg-color);\n",
              "    fill: var(--disabled-fill-color);\n",
              "    box-shadow: none;\n",
              "  }\n",
              "\n",
              "  .colab-df-spinner {\n",
              "    border: 2px solid var(--fill-color);\n",
              "    border-color: transparent;\n",
              "    border-bottom-color: var(--fill-color);\n",
              "    animation:\n",
              "      spin 1s steps(1) infinite;\n",
              "  }\n",
              "\n",
              "  @keyframes spin {\n",
              "    0% {\n",
              "      border-color: transparent;\n",
              "      border-bottom-color: var(--fill-color);\n",
              "      border-left-color: var(--fill-color);\n",
              "    }\n",
              "    20% {\n",
              "      border-color: transparent;\n",
              "      border-left-color: var(--fill-color);\n",
              "      border-top-color: var(--fill-color);\n",
              "    }\n",
              "    30% {\n",
              "      border-color: transparent;\n",
              "      border-left-color: var(--fill-color);\n",
              "      border-top-color: var(--fill-color);\n",
              "      border-right-color: var(--fill-color);\n",
              "    }\n",
              "    40% {\n",
              "      border-color: transparent;\n",
              "      border-right-color: var(--fill-color);\n",
              "      border-top-color: var(--fill-color);\n",
              "    }\n",
              "    60% {\n",
              "      border-color: transparent;\n",
              "      border-right-color: var(--fill-color);\n",
              "    }\n",
              "    80% {\n",
              "      border-color: transparent;\n",
              "      border-right-color: var(--fill-color);\n",
              "      border-bottom-color: var(--fill-color);\n",
              "    }\n",
              "    90% {\n",
              "      border-color: transparent;\n",
              "      border-bottom-color: var(--fill-color);\n",
              "    }\n",
              "  }\n",
              "</style>\n",
              "\n",
              "  <script>\n",
              "    async function quickchart(key) {\n",
              "      const quickchartButtonEl =\n",
              "        document.querySelector('#' + key + ' button');\n",
              "      quickchartButtonEl.disabled = true;  // To prevent multiple clicks.\n",
              "      quickchartButtonEl.classList.add('colab-df-spinner');\n",
              "      try {\n",
              "        const charts = await google.colab.kernel.invokeFunction(\n",
              "            'suggestCharts', [key], {});\n",
              "      } catch (error) {\n",
              "        console.error('Error during call to suggestCharts:', error);\n",
              "      }\n",
              "      quickchartButtonEl.classList.remove('colab-df-spinner');\n",
              "      quickchartButtonEl.classList.add('colab-df-quickchart-complete');\n",
              "    }\n",
              "    (() => {\n",
              "      let quickchartButtonEl =\n",
              "        document.querySelector('#df-c76ef599-63f5-45ee-9c3c-51736c4ea461 button');\n",
              "      quickchartButtonEl.style.display =\n",
              "        google.colab.kernel.accessAllowed ? 'block' : 'none';\n",
              "    })();\n",
              "  </script>\n",
              "</div>\n",
              "    </div>\n",
              "  </div>\n"
            ]
          },
          "metadata": {},
          "execution_count": 34
        }
      ]
    },
    {
      "cell_type": "code",
      "source": [
        "spark = SparkSession.builder.appName(\"PipelineDadosXP\").getOrCreate()"
      ],
      "metadata": {
        "id": "Gk0UDKb4lHFg"
      },
      "execution_count": 35,
      "outputs": []
    },
    {
      "cell_type": "code",
      "source": [
        "type(df)"
      ],
      "metadata": {
        "colab": {
          "base_uri": "https://localhost:8080/"
        },
        "id": "18BrVMSPnInB",
        "outputId": "335ec917-3ce9-4f7f-ff6b-9e43e15d6d66"
      },
      "execution_count": 36,
      "outputs": [
        {
          "output_type": "execute_result",
          "data": {
            "text/plain": [
              "pandas.core.frame.DataFrame"
            ]
          },
          "metadata": {},
          "execution_count": 36
        }
      ]
    },
    {
      "cell_type": "code",
      "source": [
        "# transformar o df de Pandas para Spark\n",
        "df = spark.createDataFrame(df)"
      ],
      "metadata": {
        "id": "bwgXLnE_nU6g"
      },
      "execution_count": 37,
      "outputs": []
    },
    {
      "cell_type": "code",
      "source": [
        "type(df)"
      ],
      "metadata": {
        "colab": {
          "base_uri": "https://localhost:8080/"
        },
        "id": "8dOCm6txne5I",
        "outputId": "0ecd8f8e-511a-4f47-f06c-80e496695a3c"
      },
      "execution_count": 38,
      "outputs": [
        {
          "output_type": "execute_result",
          "data": {
            "text/plain": [
              "pyspark.sql.dataframe.DataFrame"
            ]
          },
          "metadata": {},
          "execution_count": 38
        }
      ]
    },
    {
      "cell_type": "markdown",
      "source": [
        "## Transformação"
      ],
      "metadata": {
        "id": "uaSgN6qGoSMS"
      }
    },
    {
      "cell_type": "code",
      "source": [
        "df.printSchema()"
      ],
      "metadata": {
        "colab": {
          "base_uri": "https://localhost:8080/"
        },
        "id": "Phu1my6joZYR",
        "outputId": "2565cbb9-855e-486b-afc1-ac4f55f0d51f"
      },
      "execution_count": 39,
      "outputs": [
        {
          "output_type": "stream",
          "name": "stdout",
          "text": [
            "root\n",
            " |-- Código: long (nullable = true)\n",
            " |-- Descrição: string (nullable = true)\n",
            " |-- Unidade medida: string (nullable = true)\n",
            " |-- CPC: long (nullable = true)\n",
            " |-- Seção: string (nullable = true)\n",
            " |-- Divisão: string (nullable = true)\n",
            " |-- Grupo: string (nullable = true)\n",
            " |-- Classe: string (nullable = true)\n",
            " |-- Subclasse: double (nullable = true)\n",
            "\n"
          ]
        }
      ]
    },
    {
      "cell_type": "code",
      "source": [
        "df.show(10)"
      ],
      "metadata": {
        "colab": {
          "base_uri": "https://localhost:8080/"
        },
        "id": "1LIrxREwngtR",
        "outputId": "9f3a123c-7d07-496a-c319-8c6db26eaba2"
      },
      "execution_count": 40,
      "outputs": [
        {
          "output_type": "stream",
          "name": "stdout",
          "text": [
            "+------+--------------------+--------------+----+--------------------+--------------------+--------------------+--------------------+---------+\n",
            "|Código|           Descrição|Unidade medida| CPC|               Seção|             Divisão|               Grupo|              Classe|Subclasse|\n",
            "+------+--------------------+--------------+----+--------------------+--------------------+--------------------+--------------------+---------+\n",
            "| 14311|Orientação / Educ...| UNHOMEM/H MÊS|9659|9: SERVIÇOS DA CO...|96: SERVIÇOS RECR...|965: SERVIÇOS REL...|9659: OUTROS ESPO...|      NaN|\n",
            "| 15946|Serviço Penitenci...|            UN| 979|9: SERVIÇOS DA CO...|97: OUTROS SERVIÇ...|979: OUTROS SERVI...|                 NaN|      NaN|\n",
            "| 18481|Consultoria e Ass...|            UN|8319|8: SERVIÇOS DE AR...|83: OUTROS SERVIÇ...|831: SERVIÇOS DE ...|8319: OUTROS SERV...|      NaN|\n",
            "| 19321|Curso / Treinamen...|            UN| 929|9: SERVIÇOS DA CO...|92: SERVIÇOS DA I...|929: OUTROS SERVI...|                 NaN|      NaN|\n",
            "+------+--------------------+--------------+----+--------------------+--------------------+--------------------+--------------------+---------+\n",
            "\n"
          ]
        }
      ]
    },
    {
      "cell_type": "code",
      "source": [
        "df.columns"
      ],
      "metadata": {
        "colab": {
          "base_uri": "https://localhost:8080/"
        },
        "id": "a_xT5UBDpbOh",
        "outputId": "7f76da3c-0d1e-46ae-e34c-34cf7731c673"
      },
      "execution_count": 41,
      "outputs": [
        {
          "output_type": "execute_result",
          "data": {
            "text/plain": [
              "['Código',\n",
              " 'Descrição',\n",
              " 'Unidade medida',\n",
              " 'CPC',\n",
              " 'Seção',\n",
              " 'Divisão',\n",
              " 'Grupo',\n",
              " 'Classe',\n",
              " 'Subclasse']"
            ]
          },
          "metadata": {},
          "execution_count": 41
        }
      ]
    },
    {
      "cell_type": "code",
      "source": [
        "# metodo para renomear colunas do df\n",
        "df = (df.withColumnRenamed('Código', 'Codigo')\n",
        "      .withColumnRenamed('Descrição', 'Descricao')\n",
        "      .withColumnRenamed('Unidade medida', 'UnidadeMedida')\n",
        "      .withColumnRenamed('Seção', 'Secao')\n",
        "      .withColumnRenamed('Divisão', 'Divisao'))\n",
        "\n",
        "df.columns"
      ],
      "metadata": {
        "colab": {
          "base_uri": "https://localhost:8080/"
        },
        "id": "7pEIokqsohHR",
        "outputId": "a18e7c3a-8ae0-446e-e8cc-54712ea23ae1"
      },
      "execution_count": 42,
      "outputs": [
        {
          "output_type": "execute_result",
          "data": {
            "text/plain": [
              "['Codigo',\n",
              " 'Descricao',\n",
              " 'UnidadeMedida',\n",
              " 'CPC',\n",
              " 'Secao',\n",
              " 'Divisao',\n",
              " 'Grupo',\n",
              " 'Classe',\n",
              " 'Subclasse']"
            ]
          },
          "metadata": {},
          "execution_count": 42
        }
      ]
    },
    {
      "cell_type": "code",
      "source": [
        "# utilizando compreensão de listas para colocar todas as letras das colunas em minusculo\n",
        "df = df.select([x.lower() for x in df.columns])\n",
        "df.printSchema()"
      ],
      "metadata": {
        "colab": {
          "base_uri": "https://localhost:8080/"
        },
        "id": "qaDWQS90r16Y",
        "outputId": "62eceb3b-fd10-4b3a-85e8-41da5f2de3b9"
      },
      "execution_count": 45,
      "outputs": [
        {
          "output_type": "stream",
          "name": "stdout",
          "text": [
            "root\n",
            " |-- codigo: long (nullable = true)\n",
            " |-- descricao: string (nullable = true)\n",
            " |-- unidademedida: string (nullable = true)\n",
            " |-- cpc: long (nullable = true)\n",
            " |-- secao: string (nullable = true)\n",
            " |-- divisao: string (nullable = true)\n",
            " |-- grupo: string (nullable = true)\n",
            " |-- classe: string (nullable = true)\n",
            " |-- subclasse: double (nullable = true)\n",
            "\n"
          ]
        }
      ]
    },
    {
      "cell_type": "markdown",
      "source": [
        "## Carga"
      ],
      "metadata": {
        "id": "ksnaBNCDvMEq"
      }
    },
    {
      "cell_type": "code",
      "source": [
        "from google.colab import drive"
      ],
      "metadata": {
        "id": "8GMAt8t0tSAp"
      },
      "execution_count": 46,
      "outputs": []
    },
    {
      "cell_type": "code",
      "source": [
        "# para salvar as alterações no Drive\n",
        "drive.mount('/content/drive')"
      ],
      "metadata": {
        "colab": {
          "base_uri": "https://localhost:8080/"
        },
        "id": "9tDBXZzTtV4Z",
        "outputId": "d17812b1-7cd4-4090-e884-9e730898869a"
      },
      "execution_count": 48,
      "outputs": [
        {
          "output_type": "stream",
          "name": "stdout",
          "text": [
            "Mounted at /content/drive\n"
          ]
        }
      ]
    },
    {
      "cell_type": "code",
      "source": [
        "dir = '/content/drive/MyDrive/XPE/data'"
      ],
      "metadata": {
        "id": "tNqQppqhtjdh"
      },
      "execution_count": 49,
      "outputs": []
    },
    {
      "cell_type": "code",
      "source": [
        "df.write.mode(\"overwrite\")\\\n",
        "        .csv(f\"{dir}/compras.csv\")"
      ],
      "metadata": {
        "id": "VqKT0LuktvQ6"
      },
      "execution_count": 52,
      "outputs": []
    },
    {
      "cell_type": "code",
      "source": [
        "print(spark.read.csv(\"/content/drive/MyDrive/XPE/data/compras.csv\").show())"
      ],
      "metadata": {
        "colab": {
          "base_uri": "https://localhost:8080/"
        },
        "id": "nAfXLp65u8Sa",
        "outputId": "a1afebbd-03f2-4e08-de2b-70a5542bffa5"
      },
      "execution_count": 53,
      "outputs": [
        {
          "output_type": "stream",
          "name": "stdout",
          "text": [
            "+-----+--------------------+-------------+----+--------------------+--------------------+--------------------+--------------------+---+\n",
            "|  _c0|                 _c1|          _c2| _c3|                 _c4|                 _c5|                 _c6|                 _c7|_c8|\n",
            "+-----+--------------------+-------------+----+--------------------+--------------------+--------------------+--------------------+---+\n",
            "|18481|Consultoria e Ass...|           UN|8319|8: SERVIÇOS DE AR...|83: OUTROS SERVIÇ...|831: SERVIÇOS DE ...|8319: OUTROS SERV...|NaN|\n",
            "|19321|Curso / Treinamen...|           UN| 929|9: SERVIÇOS DA CO...|92: SERVIÇOS DA I...|929: OUTROS SERVI...|                 NaN|NaN|\n",
            "|14311|Orientação / Educ...|UNHOMEM/H MÊS|9659|9: SERVIÇOS DA CO...|96: SERVIÇOS RECR...|965: SERVIÇOS REL...|9659: OUTROS ESPO...|NaN|\n",
            "|15946|Serviço Penitenci...|           UN| 979|9: SERVIÇOS DA CO...| 97: OUTROS SERVIÇOS|979: OUTROS SERVI...|                 NaN|NaN|\n",
            "+-----+--------------------+-------------+----+--------------------+--------------------+--------------------+--------------------+---+\n",
            "\n",
            "None\n"
          ]
        }
      ]
    }
  ]
}