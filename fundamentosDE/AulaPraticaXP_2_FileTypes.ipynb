{
 "cells": [
  {
   "cell_type": "code",
   "execution_count": 1,
   "metadata": {},
   "outputs": [
    {
     "data": {
      "text/plain": [
       "str"
      ]
     },
     "execution_count": 1,
     "metadata": {},
     "output_type": "execute_result"
    }
   ],
   "source": [
    "nome = \"Mariana\"\n",
    "type(nome)"
   ]
  },
  {
   "cell_type": "code",
   "execution_count": 2,
   "metadata": {},
   "outputs": [
    {
     "data": {
      "text/plain": [
       "int"
      ]
     },
     "execution_count": 2,
     "metadata": {},
     "output_type": "execute_result"
    }
   ],
   "source": [
    "idade = 34\n",
    "type(idade)"
   ]
  },
  {
   "cell_type": "code",
   "execution_count": 11,
   "metadata": {},
   "outputs": [
    {
     "data": {
      "text/plain": [
       "['2023_Pagamento.csv',\n",
       " '2023_Passagem.csv',\n",
       " '2023_Trecho.csv',\n",
       " '2023_Viagem.csv',\n",
       " 'viagens.csv']"
      ]
     },
     "execution_count": 11,
     "metadata": {},
     "output_type": "execute_result"
    }
   ],
   "source": [
    "import os\n",
    "from pyspark.sql import SparkSession\n",
    "dir = 'C:/Users/maria/OneDrive/Área de Trabalho/repositorio-posXPE/fundamentosDE/files'\n",
    "list_files = os.listdir(dir)\n",
    "list_files"
   ]
  },
  {
   "cell_type": "code",
   "execution_count": 12,
   "metadata": {},
   "outputs": [
    {
     "name": "stdout",
     "output_type": "stream",
     "text": [
      "Requirement already satisfied: pyspark in c:\\users\\maria\\appdata\\local\\packages\\pythonsoftwarefoundation.python.3.11_qbz5n2kfra8p0\\localcache\\local-packages\\python311\\site-packages (3.5.0)\n",
      "Requirement already satisfied: py4j==0.10.9.7 in c:\\users\\maria\\appdata\\local\\packages\\pythonsoftwarefoundation.python.3.11_qbz5n2kfra8p0\\localcache\\local-packages\\python311\\site-packages (from pyspark) (0.10.9.7)\n"
     ]
    },
    {
     "name": "stderr",
     "output_type": "stream",
     "text": [
      "\n",
      "[notice] A new release of pip is available: 23.2.1 -> 23.3.1\n",
      "[notice] To update, run: C:\\Users\\maria\\AppData\\Local\\Microsoft\\WindowsApps\\PythonSoftwareFoundation.Python.3.11_qbz5n2kfra8p0\\python.exe -m pip install --upgrade pip\n"
     ]
    }
   ],
   "source": [
    "! pip install pyspark"
   ]
  },
  {
   "cell_type": "code",
   "execution_count": 13,
   "metadata": {},
   "outputs": [],
   "source": [
    "spark = SparkSession.builder.appName(\"FileTypesXP\").getOrCreate()"
   ]
  },
  {
   "cell_type": "code",
   "execution_count": 17,
   "metadata": {},
   "outputs": [
    {
     "name": "stdout",
     "output_type": "stream",
     "text": [
      "+-----------------------------------+-------------------------+------------------+--------------------+----------------+-------------------+--------------------+-------------------+--------------------+--------------------+-----------------+---------------------+--------------------+------------------+----------------------+-----------------+---------------+----------------------+----------------------+\n",
      "|Identificador do processo de viagem|Número da Proposta (PCDP)|Meio de transporte|   País - Origem ida| UF - Origem ida|Cidade - Origem ida|  País - Destino ida|   UF - Destino ida|Cidade - Destino ida| País - Origem volta|UF - Origem volta|Cidade - Origem volta|Pais - Destino volta|UF - Destino volta|Cidade - Destino volta|Valor da passagem|Taxa de serviço|Data da emissão/compra|Hora da emissão/compra|\n",
      "+-----------------------------------+-------------------------+------------------+--------------------+----------------+-------------------+--------------------+-------------------+--------------------+--------------------+-----------------+---------------------+--------------------+------------------+----------------------+-----------------+---------------+----------------------+----------------------+\n",
      "|                0000000000018288418|             000007/23-1C|             Aéreo|              Brasil|Distrito Federal|           Brasília|Estados Unidos da...|               null|           Nova York|Estados Unidos da...|             null|            Nova York|              Brasil|  Distrito Federal|              Brasília|          7434,13|           0,00|            04/11/2022|                 11:04|\n",
      "|                0000000000018302983|                000001/23|             Aéreo|              Brasil|       São Paulo|          São Paulo|              Suécia|               null|          Gotemburgo|              Suécia|             null|           Gotemburgo|              Brasil|         São Paulo|             São Paulo|          9903,32|        4999,78|            15/09/2022|                 13:39|\n",
      "|                0000000000018306758|                000002/23|             Aéreo|              Brasil|       São Paulo|          São Paulo|              Suécia|               null|          Gotemburgo|              Suécia|             null|           Gotemburgo|              Brasil|         São Paulo|             São Paulo|          9903,32|        4999,78|            15/09/2022|                 13:42|\n",
      "|                0000000000018306785|                000004/23|             Aéreo|              Brasil|       São Paulo|          São Paulo|              Suécia|               null|          Gotemburgo|              Suécia|             null|           Gotemburgo|              Brasil|         São Paulo|             São Paulo|          9903,32|        4999,78|            15/09/2022|                 13:51|\n",
      "|                0000000000018306786|                000003/23|             Aéreo|              Brasil|       São Paulo|          São Paulo|              Suécia|               null|          Gotemburgo|              Suécia|             null|           Gotemburgo|              Brasil|         São Paulo|             São Paulo|          9903,32|        4999,78|            15/09/2022|                 13:48|\n",
      "|                0000000000018320442|                000002/23|             Aéreo|              Brasil|  Rio de Janeiro|     Rio de Janeiro|              Brasil|Rio Grande do Norte|               Natal|      Sem informação|   Sem informação|       Sem informação|      Sem informação|    Sem informação|        Sem informação|          1518,18|           0,00|            06/12/2022|                 16:35|\n",
      "|                0000000000018320483|                000003/23|             Aéreo|              Brasil|  Rio de Janeiro|     Rio de Janeiro|              Brasil|Rio Grande do Norte|               Natal|      Sem informação|   Sem informação|       Sem informação|      Sem informação|    Sem informação|        Sem informação|          1369,29|           0,00|            06/12/2022|                 16:31|\n",
      "|                0000000000018320580|                000004/23|             Aéreo|              Brasil|  Rio de Janeiro|     Rio de Janeiro|              Brasil|Rio Grande do Norte|               Natal|      Sem informação|   Sem informação|       Sem informação|      Sem informação|    Sem informação|        Sem informação|          1369,29|           0,00|            06/12/2022|                 16:33|\n",
      "|                0000000000018345549|                000001/23|             Aéreo|            Portugal|            null|             Lisboa|              Brasil|          Tocantins|              Palmas|      Sem informação|   Sem informação|       Sem informação|      Sem informação|    Sem informação|        Sem informação|          4336,39|           0,00|            23/11/2022|                 15:41|\n",
      "|                0000000000018345549|                000001/23|             Aéreo|              Brasil|       Tocantins|             Palmas|            Portugal|               null|              Lisboa|      Sem informação|   Sem informação|       Sem informação|      Sem informação|    Sem informação|        Sem informação|          4336,39|           0,00|            23/11/2022|                 15:41|\n",
      "|                0000000000018352553|             000005/23-1C|             Aéreo|Estados Unidos da...|            null|          Nova York|              Brasil|   Distrito Federal|            Brasília|      Sem informação|   Sem informação|       Sem informação|      Sem informação|    Sem informação|        Sem informação|          6506,90|           0,00|            21/09/2022|                 15:22|\n",
      "|                0000000000018352553|             000005/23-1C|             Aéreo|              Brasil|Distrito Federal|           Brasília|Estados Unidos da...|               null|           Nova York|      Sem informação|   Sem informação|       Sem informação|      Sem informação|    Sem informação|        Sem informação|          6531,60|           0,00|            21/09/2022|                 15:22|\n",
      "|                0000000000018357181|             000001/23-1C|             Aéreo|              Brasil|Distrito Federal|           Brasília|              Brasil|     Rio de Janeiro|      Rio de Janeiro|      Sem informação|   Sem informação|       Sem informação|      Sem informação|    Sem informação|        Sem informação|           869,42|           0,00|            26/01/2023|                 09:43|\n",
      "|                0000000000018357181|             000001/23-1C|             Aéreo|              Brasil|  Rio de Janeiro|     Rio de Janeiro|              Brasil|   Distrito Federal|            Brasília|      Sem informação|   Sem informação|       Sem informação|      Sem informação|    Sem informação|        Sem informação|           744,40|           0,00|            26/01/2023|                 09:43|\n",
      "|                0000000000018357399|                000002/23|             Aéreo|              Brasil|  Rio de Janeiro|     Rio de Janeiro|              Brasil|   Distrito Federal|            Brasília|      Sem informação|   Sem informação|       Sem informação|      Sem informação|    Sem informação|        Sem informação|           434,82|           0,00|            21/09/2022|                 11:07|\n",
      "|                0000000000018369197|             000006/23-1C|             Aéreo|              Brasil|Distrito Federal|           Brasília|Estados Unidos da...|               null|           Nova York|      Sem informação|   Sem informação|       Sem informação|      Sem informação|    Sem informação|        Sem informação|          3831,63|           0,05|            21/10/2022|                 17:34|\n",
      "|                0000000000018369197|             000006/23-1C|             Aéreo|Estados Unidos da...|            null|          Nova York|              Brasil|   Distrito Federal|            Brasília|      Sem informação|   Sem informação|       Sem informação|      Sem informação|    Sem informação|        Sem informação|          3831,63|           0,05|            21/10/2022|                 17:34|\n",
      "|                0000000000018369332|                000060/23|             Aéreo|              Brasil|  Santa Catarina|          Joinville|              Brasil|              Ceará|           Fortaleza|      Sem informação|   Sem informação|       Sem informação|      Sem informação|    Sem informação|        Sem informação|          1117,27|           0,00|            28/02/2023|                 12:54|\n",
      "|                0000000000018369332|                000060/23|             Aéreo|              Brasil|           Ceará|          Fortaleza|              Brasil|     Santa Catarina|           Joinville|      Sem informação|   Sem informação|       Sem informação|      Sem informação|    Sem informação|        Sem informação|          1125,54|           0,00|            28/02/2023|                 12:54|\n",
      "|                0000000000018379705|                000002/23|             Aéreo|República Democrá...|            null|        Brazzaville|              Brasil|   Distrito Federal|            Brasília|              Brasil| Distrito Federal|             Brasília|República Democrá...|              null|           Brazzaville|         15492,42|           0,00|            26/09/2022|                 18:02|\n",
      "+-----------------------------------+-------------------------+------------------+--------------------+----------------+-------------------+--------------------+-------------------+--------------------+--------------------+-----------------+---------------------+--------------------+------------------+----------------------+-----------------+---------------+----------------------+----------------------+\n",
      "only showing top 20 rows\n",
      "\n"
     ]
    }
   ],
   "source": [
    "csv_file = \"2023_Passagem.csv\"\n",
    "df = spark.read.csv(f\"{dir}/{csv_file}\", header=True, encoding='iso-8859-1', sep=';')\n",
    "\n",
    "df.show()"
   ]
  },
  {
   "cell_type": "code",
   "execution_count": null,
   "metadata": {},
   "outputs": [],
   "source": []
  }
 ],
 "metadata": {
  "kernelspec": {
   "display_name": "Python 3",
   "language": "python",
   "name": "python3"
  },
  "language_info": {
   "codemirror_mode": {
    "name": "ipython",
    "version": 3
   },
   "file_extension": ".py",
   "mimetype": "text/x-python",
   "name": "python",
   "nbconvert_exporter": "python",
   "pygments_lexer": "ipython3",
   "version": "3.11.6"
  }
 },
 "nbformat": 4,
 "nbformat_minor": 2
}
